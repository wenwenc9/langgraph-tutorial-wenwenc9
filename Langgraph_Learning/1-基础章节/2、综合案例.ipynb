{
 "cells": [
  {
   "cell_type": "code",
   "id": "initial_id",
   "metadata": {
    "collapsed": true,
    "ExecuteTime": {
     "end_time": "2025-10-20T09:48:47.258642Z",
     "start_time": "2025-10-20T09:48:47.250118Z"
    }
   },
   "source": [
    "import rich\n",
    "from dotenv import load_dotenv, find_dotenv\n",
    "import os\n",
    "\n",
    "# 自动向上查找 .env 文件\n",
    "load_dotenv(find_dotenv())\n",
    "modelName = os.getenv('OPENAI_MODEL')\n",
    "print(modelName)"
   ],
   "outputs": [
    {
     "name": "stdout",
     "output_type": "stream",
     "text": [
      "doubao-1-5-pro-256k-250115\n"
     ]
    }
   ],
   "execution_count": 1
  },
  {
   "metadata": {},
   "cell_type": "code",
   "source": "",
   "id": "adec9a7a342e0baa",
   "outputs": [],
   "execution_count": null
  },
  {
   "metadata": {},
   "cell_type": "markdown",
   "source": "# 1、构建一个基础聊天Agent",
   "id": "d2220df4cd9e6d9b"
  },
  {
   "metadata": {},
   "cell_type": "code",
   "source": [
    "from typing import Annotated\n",
    "from typing_extensions import TypedDict\n",
    "from langgraph.graph import StateGraph, START, END\n",
    "from langgraph.graph.message import add_messages\n",
    "\n",
    "\n",
    "# 创建图的时候，第一步就是定义状态机\n",
    "class State(TypedDict):\n",
    "    # 消息的类型为 “list”。'add_messages' 函数\n",
    "    # 定义如何更新此状态键\n",
    "    # （在本例中，它将消息附加到列表中，而不是覆盖它们）就是每次人机聊天的请求响应都会在这个messages以add方式存储list\n",
    "    messages: Annotated[list, add_messages]\n",
    "\n",
    "\n",
    "graph_builder = StateGraph(State)"
   ],
   "id": "beafa1dbb09294f9",
   "outputs": [],
   "execution_count": null
  },
  {
   "metadata": {},
   "cell_type": "markdown",
   "source": "# 2、添加一个节点",
   "id": "4ab1aa03a91bf41c"
  },
  {
   "metadata": {},
   "cell_type": "code",
   "source": [
    "from langchain.chat_models import init_chat_model\n",
    "\n",
    "llm = init_chat_model(model=f\"openai:{modelName}\")\n",
    "\n",
    "\n",
    "def chatbot(state: State):\n",
    "    return {\"messages\": [llm.invoke(state[\"messages\"])]}\n",
    "\n",
    "\n",
    "# 为这个图添加一个可用节点\n",
    "graph_builder.add_node(\"chatbot\", chatbot)"
   ],
   "id": "c18a1c899f863405",
   "outputs": [],
   "execution_count": null
  },
  {
   "metadata": {},
   "cell_type": "code",
   "source": "graph_builder.add_edge(START, \"chatbot\")  # graph_builder.set_entry_point(\"chatbot\")",
   "id": "8388559434951384",
   "outputs": [],
   "execution_count": null
  },
  {
   "metadata": {},
   "cell_type": "code",
   "source": "graph_builder.add_edge(\"chatbot\", END)",
   "id": "fcadb020ca8bb018",
   "outputs": [],
   "execution_count": null
  },
  {
   "metadata": {},
   "cell_type": "code",
   "source": "graph = graph_builder.compile()",
   "id": "20a42b23a412e72c",
   "outputs": [],
   "execution_count": null
  },
  {
   "metadata": {},
   "cell_type": "code",
   "source": [
    "from IPython.display import Image, display\n",
    "\n",
    "display(Image(graph.get_graph().draw_mermaid_png()))  # 可能会超时，需要开启代理"
   ],
   "id": "13bd038159e2f12c",
   "outputs": [],
   "execution_count": null
  },
  {
   "metadata": {},
   "cell_type": "code",
   "source": [
    "for event in graph.stream({\"messages\": [{\"role\": \"user\", \"content\": \"你是谁\"}]}):\n",
    "    for value in event.values():\n",
    "        print(\"Assistant:\", value[\"messages\"][-1].content)\n"
   ],
   "id": "223d6bc45da47a91",
   "outputs": [],
   "execution_count": null
  },
  {
   "metadata": {},
   "cell_type": "markdown",
   "source": "# 3、为Agent绑定工具",
   "id": "e08913a064546167"
  },
  {
   "metadata": {},
   "cell_type": "code",
   "source": [
    "from langchain_core.tools import tool\n",
    "\n",
    "\n",
    "########### 定义工具\n",
    "@tool\n",
    "def get_personal_info(name: str) -> dict:\n",
    "    \"\"\"\n",
    "        通过名称获取个人信息\n",
    "    :param name:\n",
    "    :return:\n",
    "    \"\"\"\n",
    "    personal_info = {\n",
    "        \"love\": \"打篮球\",\n",
    "        \"age\": \"18\"\n",
    "    }\n",
    "    return personal_info\n",
    "\n",
    "\n",
    "######### 创建图\n",
    "from langchain.chat_models import init_chat_model\n",
    "\n",
    "llm = init_chat_model(model=f\"openai:{modelName}\")\n",
    "from typing import Annotated\n",
    "from typing_extensions import TypedDict\n",
    "from langgraph.graph import StateGraph, START, END\n",
    "from langgraph.graph.message import add_messages\n",
    "\n",
    "\n",
    "# 定义状态机\n",
    "class State(TypedDict):\n",
    "    messages: Annotated[list, add_messages]\n",
    "\n",
    "\n",
    "graph_builder = StateGraph(State)\n",
    "\n",
    "# 为模型创建工具\n",
    "llm_with_tools = llm.bind_tools([get_personal_info])\n",
    "\n",
    "\n",
    "def chatbot(state: State):\n",
    "    return {\"messages\": [llm_with_tools.invoke(state[\"messages\"])]}\n",
    "\n",
    "\n",
    "graph_builder.add_node(\"chatbot\", chatbot)\n"
   ],
   "id": "7568bc7749926ba3",
   "outputs": [],
   "execution_count": null
  },
  {
   "metadata": {},
   "cell_type": "markdown",
   "source": "## 3.1 自定义图工具与路由",
   "id": "fda79efa2260e089"
  },
  {
   "metadata": {},
   "cell_type": "code",
   "source": [
    "import copy\n",
    "\n",
    "graph_builder_1 = copy.deepcopy(graph_builder)\n",
    "import json\n",
    "from langchain_core.messages import ToolMessage\n",
    "\n",
    "\n",
    "class BasicToolNode:\n",
    "    def __init__(self, tools: list) -> None:\n",
    "        self.tools_by_name = {tool.name: tool for tool in tools}\n",
    "\n",
    "    def __call__(self, sate: State):\n",
    "        if messages := sate.get(\"messages\", []):\n",
    "            message = messages[-1]\n",
    "        else:\n",
    "            raise ValueError(\"No message found in input\")\n",
    "        outputs = []\n",
    "        for tool_call in message.tool_calls:\n",
    "            tool_result = self.tools_by_name[tool_call[\"name\"]].invoke(\n",
    "                tool_call[\"args\"]\n",
    "            )\n",
    "            outputs.append(\n",
    "                ToolMessage(\n",
    "                    content=json.dumps(tool_result),\n",
    "                    name=tool_call[\"name\"],\n",
    "                    tool_call_id=tool_call[\"id\"],\n",
    "                )\n",
    "            )\n",
    "        return {\"messages\": outputs}\n",
    "\n",
    "\n",
    "tool_node = BasicToolNode(tools=[get_personal_info])\n",
    "graph_builder_1.add_node(\"tools\", tool_node)"
   ],
   "id": "f654c7c6c97d7d18",
   "outputs": [],
   "execution_count": null
  },
  {
   "metadata": {},
   "cell_type": "code",
   "source": [
    "def route_tools(\n",
    "        state: State,\n",
    "):\n",
    "    if isinstance(state, list):\n",
    "        ai_message = state[-1]\n",
    "    elif messages := state.get(\"messages\", []):\n",
    "        ai_message = messages[-1]\n",
    "    else:\n",
    "        raise ValueError(f\"No messages found in input state to tool_edge: {state}\")\n",
    "    if hasattr(ai_message, \"tool_calls\") and len(ai_message.tool_calls) > 0:\n",
    "        return \"tools\"\n",
    "    return END\n",
    "\n",
    "\n",
    "# 创建条件路由\n",
    "graph_builder_1.add_conditional_edges(\n",
    "    \"chatbot\",\n",
    "    route_tools,\n",
    "    {\"tools\": \"tools\", END: END},\n",
    ")\n",
    "graph_builder_1.add_edge(\"tools\", \"chatbot\")\n",
    "graph_builder_1.add_edge(START, \"chatbot\")\n",
    "graph_1 = graph_builder_1.compile()"
   ],
   "id": "691612bb60c8f07d",
   "outputs": [],
   "execution_count": null
  },
  {
   "metadata": {},
   "cell_type": "code",
   "source": [
    "from IPython.display import Image, display\n",
    "\n",
    "display(Image(graph_1.get_graph().draw_mermaid_png()))  # 可能会超时，需要开启代理"
   ],
   "id": "b6cdb535d10b424b",
   "outputs": [],
   "execution_count": null
  },
  {
   "metadata": {},
   "cell_type": "code",
   "source": "graph_1.invoke({\"messages\": [{\"role\": \"user\", \"content\": \"帮我获取小红的信息\"}]})",
   "id": "ec688d3a458ee933",
   "outputs": [],
   "execution_count": null
  },
  {
   "metadata": {},
   "cell_type": "markdown",
   "source": "## 3.2 内置节点与内置路由",
   "id": "fb78791df3f47f6b"
  },
  {
   "metadata": {},
   "cell_type": "code",
   "source": [
    "import copy\n",
    "\n",
    "graph_builder_2 = copy.deepcopy(graph_builder)\n",
    "from langgraph.prebuilt import ToolNode\n",
    "\n",
    "tools = ToolNode([get_personal_info])\n",
    "graph_builder_2.add_node(\"tools\", tools)"
   ],
   "id": "d569aa6f69d2d831",
   "outputs": [],
   "execution_count": null
  },
  {
   "metadata": {},
   "cell_type": "code",
   "source": [
    "from langgraph.prebuilt import tools_condition\n",
    "\n",
    "# 创建条件路由\n",
    "graph_builder_2.add_conditional_edges(\n",
    "    \"chatbot\",\n",
    "    tools_condition,\n",
    "    {\"tools\": \"tools\", END: END},\n",
    ")\n",
    "graph_builder_2.add_edge(START, \"chatbot\")\n",
    "graph_builder_2.add_edge(\"tools\", \"chatbot\")\n",
    "graph_2 = graph_builder_2.compile()"
   ],
   "id": "cb367aab424b1a74",
   "outputs": [],
   "execution_count": null
  },
  {
   "metadata": {},
   "cell_type": "code",
   "source": [
    "from IPython.display import Image, display\n",
    "\n",
    "display(Image(graph_2.get_graph().draw_mermaid_png()))"
   ],
   "id": "8783a26db9034826",
   "outputs": [],
   "execution_count": null
  },
  {
   "metadata": {},
   "cell_type": "markdown",
   "source": "# 4、添加记忆",
   "id": "59fe98491cf3fc6e"
  },
  {
   "metadata": {},
   "cell_type": "code",
   "source": [
    "from typing import Annotated\n",
    "from langchain.chat_models import init_chat_model\n",
    "from typing_extensions import TypedDict\n",
    "from langgraph.graph import StateGraph, START, END\n",
    "from langgraph.graph.message import add_messages\n",
    "\n",
    "\n",
    "class State(TypedDict):\n",
    "    messages: Annotated[list, add_messages]\n",
    "\n",
    "\n",
    "graph_builder = StateGraph(State)\n",
    "llm = init_chat_model(model=f\"openai:{modelName}\")\n",
    "\n",
    "\n",
    "def chatbot(state: State):\n",
    "    return {\"messages\": [llm.invoke(state[\"messages\"])]}\n",
    "\n",
    "\n",
    "graph_builder.add_node(\"chatbot\", chatbot)\n",
    "graph_builder.add_edge(START, \"chatbot\")\n",
    "graph_builder.add_edge(\"chatbot\", END)\n",
    "\n",
    "#### 添加内存操作\n",
    "from langgraph.checkpoint.memory import MemorySaver\n",
    "\n",
    "memory = MemorySaver()\n",
    "graph_by_in = graph_builder.compile(checkpointer=memory)\n",
    "\n",
    "# 第一次发起询问\n",
    "config = {\"configurable\": {\"thread_id\": \"1\"}}\n",
    "events = graph_by_in.stream(\n",
    "    {\"messages\": [{\"role\": \"user\", \"content\": \"你好！我的名字叫稳稳\"}]},\n",
    "    config,\n",
    "    stream_mode=\"values\",\n",
    ")\n",
    "for event in events:\n",
    "    event[\"messages\"][-1].pretty_print()\n",
    "\n",
    "# 第二次发起询问\n",
    "events = graph_by_in.stream(\n",
    "    {\"messages\": [{\"role\": \"user\", \"content\": \"你还记得我的名字吗？\"}]},\n",
    "    config,\n",
    "    stream_mode=\"values\",\n",
    ")\n",
    "for event in events:\n",
    "    event[\"messages\"][-1].pretty_print()"
   ],
   "id": "993b85674607bc11",
   "outputs": [],
   "execution_count": null
  },
  {
   "metadata": {},
   "cell_type": "markdown",
   "source": "# 5、添加人机交互",
   "id": "35520a5135444183"
  },
  {
   "metadata": {},
   "cell_type": "code",
   "source": [
    "from langchain_core.tools import tool\n",
    "from typing_extensions import Annotated, TypedDict\n",
    "from langgraph.graph import StateGraph, START, END\n",
    "from langgraph.graph.message import add_messages\n",
    "from langgraph.prebuilt import ToolNode, tools_condition\n",
    "# ps 非常重要的点，导入这2个参数\n",
    "from langgraph.types import interrupt, Command\n",
    "from langchain.chat_models import init_chat_model\n",
    "\n",
    "llm = init_chat_model(model=f\"openai:{modelName}\")\n",
    "\n",
    "\n",
    "@tool(\"用户订阅酒店工具\")\n",
    "def book_hotel(*args,query: str,**kwargs) -> str:\n",
    "    \"\"\"\n",
    "    用于处理酒店预订相关的请求。\n",
    "    \"\"\"\n",
    "    print(\"*\"*10,\"进入\")\n",
    "\n",
    "    human_response = interrupt({\"message\": \"好的请你填写酒店表单信息\", \"form_data\": {\"name\": \"\", \"age\": \"\"}})\n",
    "\n",
    "    print(\"*\"*10,\"离开\")\n",
    "\n",
    "    if human_response:\n",
    "        return f\"尊敬的{human_response['form_data']['name']},已经为您订阅酒店！\"\n",
    "    else:\n",
    "        return \"用户取消了预订\"\n",
    "\n",
    "tools = [book_hotel]\n",
    "llm = llm.bind_tools(tools)\n",
    "tools_node = ToolNode(tools)  # 适用于图的节点\n",
    "\n",
    "### 创建图\n",
    "class State(TypedDict):\n",
    "    messages: Annotated[list, add_messages]\n",
    "\n",
    "def chatbot(state: State):\n",
    "    # 添加系统提示\n",
    "    system_prompt = \"\"\"你是一个智能助手。你有以下工具可用：\n",
    "\n",
    "    工具使用规则：\n",
    "    1. \"用户订阅酒店工具\" - 仅在用户明确想要预订酒店、查询酒店或讨论住宿相关问题时使用\n",
    "    2. 对于一般性问题（如科学知识、天气、计算等），请直接回答，不要调用工具\n",
    "    3. 如果用户的问题与可用工具无关，请礼貌地直接回答\n",
    "\n",
    "    请仔细判断是否需要使用工具。\"\"\"\n",
    "    messages = [{\"role\": \"system\", \"content\": system_prompt}] + state[\"messages\"]\n",
    "    message = llm.invoke(messages)\n",
    "    return {\"messages\": [message]}\n",
    "\n",
    "graph_builder = StateGraph(State)\n",
    "graph_builder.set_entry_point(\"chatbot\")\n",
    "graph_builder.add_node(\"chatbot\", chatbot)\n",
    "graph_builder.add_node(\"tools\", tools_node)\n",
    "graph_builder.add_conditional_edges(\"chatbot\", tools_condition)\n",
    "graph_builder.add_edge(\"tools\", \"chatbot\")\n",
    "\n",
    "from langgraph.checkpoint.memory import MemorySaver\n",
    "\n",
    "memory = MemorySaver()\n",
    "graph_by_in = graph_builder.compile(checkpointer=memory)\n",
    "from IPython.display import Image, display\n",
    "display(Image(graph_by_in.get_graph().draw_mermaid_png()))  # 可能会超时，需要开启代理"
   ],
   "id": "8015c12d4f8e4a24",
   "outputs": [],
   "execution_count": null
  },
  {
   "metadata": {},
   "cell_type": "code",
   "source": [
    "user_input = \"太阳的体积\"\n",
    "config = {\"configurable\": {\"thread_id\": \"1\"}}\n",
    "# 使用stream模式以便检测中断\n",
    "events = graph_by_in.stream(\n",
    "    {\"messages\": [{\"role\": \"user\", \"content\": user_input}]},\n",
    "    config,\n",
    "    stream_mode=\"values\"\n",
    ")\n",
    "# 遍历事件\n",
    "for event in events:\n",
    "    if \"messages\" in event:\n",
    "        event[\"messages\"][-1].pretty_print()\n",
    "graph_state = graph_by_in.get_state(config)"
   ],
   "id": "7a3fa05d2693e1fc",
   "outputs": [],
   "execution_count": null
  },
  {
   "metadata": {},
   "cell_type": "code",
   "source": [
    "user_input = \"我想要定酒店\"\n",
    "config = {\"configurable\": {\"thread_id\": \"1\"}}\n",
    "# 使用stream模式以便检测中断\n",
    "events = graph_by_in.stream(\n",
    "    {\"messages\": [{\"role\": \"user\", \"content\": user_input}]},\n",
    "    config,\n",
    "    stream_mode=\"values\"\n",
    ")\n",
    "# 遍历事件\n",
    "for event in events:\n",
    "    if \"messages\" in event:\n",
    "        event[\"messages\"][-1].pretty_print()\n",
    "graph_state = graph_by_in.get_state(config)"
   ],
   "id": "f2cce09aab0cb91a",
   "outputs": [],
   "execution_count": null
  },
  {
   "metadata": {},
   "cell_type": "code",
   "source": [
    "# 用户填写表单\n",
    "events = graph_by_in.stream(\n",
    "    Command(resume={\"form_data\": {\"name\": \"稳稳C9\", \"age\": \"18\"}}),  # 传入用户填写的表单数据\n",
    "    config,\n",
    "    stream_mode=\"values\"\n",
    ")\n",
    "# 处理恢复后的事件\n",
    "for event in events:\n",
    "    if \"messages\" in event:\n",
    "        event[\"messages\"][-1].pretty_print()\n",
    "graph_state = graph_by_in.get_state(config)"
   ],
   "id": "f99827635409d4a0",
   "outputs": [],
   "execution_count": null
  },
  {
   "metadata": {},
   "cell_type": "code",
   "source": [
    "# 用户填写表单\n",
    "events = graph_by_in.stream(\n",
    "    {\"messages\": [{\"role\": \"user\", \"content\": \"你是谁\"}]},\n",
    "    config,\n",
    "    stream_mode=\"values\"\n",
    ")\n",
    "# 处理恢复后的事件\n",
    "for event in events:\n",
    "    if \"messages\" in event:\n",
    "        event[\"messages\"][-1].pretty_print()\n",
    "graph_state = graph_by_in.get_state(config)"
   ],
   "id": "55b67c756eeb189d",
   "outputs": [],
   "execution_count": null
  },
  {
   "metadata": {},
   "cell_type": "code",
   "source": [
    "graph_history = list(graph_by_in.get_state_history(config))\n",
    "for state in graph_history:\n",
    "    print(state.next)\n",
    "    print(state.config[\"configurable\"][\"checkpoint_id\"])\n",
    "    print()"
   ],
   "id": "18171adb56c6c907",
   "outputs": [],
   "execution_count": null
  },
  {
   "metadata": {},
   "cell_type": "code",
   "source": "graph_by_in.get_state(config).interrupts",
   "id": "9a425643902cb6a2",
   "outputs": [],
   "execution_count": null
  },
  {
   "metadata": {},
   "cell_type": "markdown",
   "source": "# 6、自定义状态机",
   "id": "a8f02c0b0c6b6869"
  },
  {
   "metadata": {},
   "cell_type": "code",
   "source": [
    "from typing_extensions import TypedDict\n",
    "from langgraph.graph.message import add_messages\n",
    "from typing import Annotated, Optional\n",
    "class State(TypedDict):\n",
    "    messages: Annotated[list, add_messages]  # 对话消息列表\n",
    "    applicant_name: Optional[str]            # 申请人姓名\n",
    "    amount: Optional[float]                  # 申请金额\n",
    "    purpose: Optional[str]                   # 申请用途\n",
    "    approval_status: Optional[str]           # 审批状态：pending/approved/rejected\n",
    "    approver_name: Optional[str]             # 审批人姓名"
   ],
   "id": "3a7b07d15d94968d",
   "outputs": [],
   "execution_count": null
  },
  {
   "metadata": {},
   "cell_type": "code",
   "source": [
    "from langchain_core.tools import tool\n",
    "@tool\n",
    "def evaluate_funding_request(applicant_name: str,amount: float,purpose: str) -> str:\n",
    "    \"\"\"\n",
    "    评估财务拨款申请的合理性\n",
    "    Args:\n",
    "        applicant_name: 申请人姓名\n",
    "        amount: 申请金额\n",
    "        purpose: 申请用途\n",
    "    Returns:\n",
    "        评估结果\n",
    "    \"\"\"\n",
    "    # 简单的风险评估\n",
    "    if amount > 100000:\n",
    "        risk_level = \"高风险\"\n",
    "        suggestion = \"需要详细说明资金用途\"\n",
    "    elif amount > 50000:\n",
    "        risk_level = \"中风险\"\n",
    "        suggestion = \"建议提供项目计划\"\n",
    "    else:\n",
    "        risk_level = \"低风险\"\n",
    "        suggestion = \"申请材料完整\"\n",
    "\n",
    "    evaluation = f\"\"\"\n",
    "    📋 申请评估报告\n",
    "    申请人: {applicant_name}\n",
    "    申请金额: ¥{amount:,.2f}\n",
    "    申请用途: {purpose}\n",
    "\n",
    "    🔍 风险评估: {risk_level}\n",
    "    💡 建议: {suggestion}\n",
    "    \"\"\"\n",
    "    return evaluation"
   ],
   "id": "7bd79406ba7845b",
   "outputs": [],
   "execution_count": null
  },
  {
   "metadata": {},
   "cell_type": "code",
   "source": [
    "from langchain_core.tools import InjectedToolCallId\n",
    "from langgraph.types import interrupt, Command\n",
    "from langchain_core.messages import ToolMessage\n",
    "@tool\n",
    "def financial_approval(applicant_name: str,amount: float,purpose: str,tool_call_id: Annotated[str, InjectedToolCallId]) -> str:\n",
    "    \"\"\"\n",
    "    财务拨款审批工具\n",
    "\n",
    "    Args:\n",
    "        applicant_name: 申请人姓名\n",
    "        amount: 申请金额，纯数字\n",
    "        purpose: 申请用途\n",
    "        tool_call_id: 工具调用ID（自动注入）\n",
    "    Returns:\n",
    "        审批结果\n",
    "    \"\"\"\n",
    "\n",
    "    # 暂停执行，等待人工审批\n",
    "    human_response = interrupt({\n",
    "        \"type\": \"financial_approval\",\n",
    "        \"message\": \"财务拨款申请需要审批\",\n",
    "        \"data\": {\n",
    "            \"applicant_name\": applicant_name,\n",
    "            \"amount\": amount,\n",
    "            \"purpose\": purpose\n",
    "        },\n",
    "        \"options\": [\"批准申请\", \"拒绝申请\"]\n",
    "    })\n",
    "\n",
    "    # 处理审批结果\n",
    "    action = human_response.get(\"action\", \"拒绝申请\")\n",
    "    approver_name = human_response.get(\"approver_name\", \"未知审批人\")\n",
    "    comment = human_response.get(\"comment\", \"\")\n",
    "\n",
    "    if action == \"批准申请\":\n",
    "        status = \"approved\"\n",
    "        response = f\"✅ 申请已批准\\n审批人: {approver_name}\\n批准金额: ¥{amount:,.2f}\\n审批意见: {comment}\"\n",
    "    else:\n",
    "        status = \"rejected\"\n",
    "        response = f\"❌ 申请已拒绝\\n审批人: {approver_name}\\n拒绝原因: {comment}\"\n",
    "\n",
    "    # 更新状态\n",
    "    state_update = {\n",
    "        \"approval_status\": status,\n",
    "        \"approver_name\": approver_name,\n",
    "        \"messages\": [ToolMessage(response, tool_call_id=tool_call_id)],\n",
    "    }\n",
    "\n",
    "    return Command(update=state_update)"
   ],
   "id": "dbe8dfc4cad1fd91",
   "outputs": [],
   "execution_count": null
  },
  {
   "metadata": {},
   "cell_type": "code",
   "source": [
    "from langchain.chat_models import init_chat_model\n",
    "from langgraph.prebuilt import ToolNode, tools_condition\n",
    "from langgraph.graph import StateGraph, START, END\n",
    "from langgraph.checkpoint.memory import MemorySaver\n",
    "\n",
    "# 初始化模型\n",
    "llm = init_chat_model(f\"openai:{modelName}\")\n",
    "\n",
    "# 绑定工具\n",
    "tools = [evaluate_funding_request, financial_approval]\n",
    "llm_with_tools = llm.bind_tools(tools)\n",
    "\n",
    "# 定义聊天节点\n",
    "def chatbot(state: State):\n",
    "    \"\"\"智能财务助手节点\"\"\"\n",
    "    return {\"messages\": [llm_with_tools.invoke(state[\"messages\"])]}\n",
    "\n",
    "# 构建图\n",
    "tool_node = ToolNode(tools=tools)\n",
    "graph_builder = StateGraph(State)\n",
    "\n",
    "# 添加节点和边\n",
    "graph_builder.add_node(\"chatbot\", chatbot)\n",
    "graph_builder.add_node(\"tools\", tool_node)\n",
    "graph_builder.add_conditional_edges(\"chatbot\", tools_condition)\n",
    "graph_builder.add_edge(\"tools\", \"chatbot\")\n",
    "graph_builder.add_edge(START, \"chatbot\")\n",
    "\n",
    "# 编译图\n",
    "graph = graph_builder.compile(checkpointer=MemorySaver())"
   ],
   "id": "fb6d7e519e197137",
   "outputs": [],
   "execution_count": null
  },
  {
   "metadata": {},
   "cell_type": "code",
   "source": [
    "from IPython.display import Image, display\n",
    "display(Image(graph.get_graph(xray=True).draw_mermaid_png()))  # 可能会超时，需要开启代理"
   ],
   "id": "14f02718e9ef22ef",
   "outputs": [],
   "execution_count": null
  },
  {
   "metadata": {
    "ExecuteTime": {
     "end_time": "2025-10-20T09:00:57.528341Z",
     "start_time": "2025-10-20T09:00:51.845984Z"
    }
   },
   "cell_type": "code",
   "source": [
    "config = {\"configurable\": {\"thread_id\": \"rejection_demo_5\"}}\n",
    "user_request = \"我是稳稳，申请拨款10万元用于购买豪华办公家具\"\n",
    "events = graph.stream(\n",
    "    {\"messages\": [{\"role\": \"user\", \"content\": user_request}]},\n",
    "    config,\n",
    "    stream_mode=\"values\"\n",
    ")\n",
    "for event in events:\n",
    "    if \"messages\" in event:\n",
    "        event[\"messages\"][-1].pretty_print()"
   ],
   "id": "f8190dd17a7469d",
   "outputs": [
    {
     "name": "stdout",
     "output_type": "stream",
     "text": [
      "================================\u001B[1m Human Message \u001B[0m=================================\n",
      "\n",
      "我是稳稳，申请拨款10万元用于购买豪华办公家具\n",
      "==================================\u001B[1m Ai Message \u001B[0m==================================\n",
      "\n",
      "首先调用 evaluate_funding_request 工具评估申请的合理性，再根据评估结果调用 financial_approval 工具进行审批。\n",
      "Tool Calls:\n",
      "  evaluate_funding_request (call_0r0dm6pt0jsdbs8dh0u18fw9)\n",
      " Call ID: call_0r0dm6pt0jsdbs8dh0u18fw9\n",
      "  Args:\n",
      "    applicant_name: 稳稳\n",
      "    amount: 100000\n",
      "    purpose: 购买豪华办公家具\n",
      "=================================\u001B[1m Tool Message \u001B[0m=================================\n",
      "Name: evaluate_funding_request\n",
      "\n",
      "\n",
      "    📋 申请评估报告\n",
      "    申请人: 稳稳\n",
      "    申请金额: ¥100,000.00\n",
      "    申请用途: 购买豪华办公家具\n",
      "\n",
      "    🔍 风险评估: 中风险\n",
      "    💡 建议: 建议提供项目计划\n",
      "    \n",
      "==================================\u001B[1m Ai Message \u001B[0m==================================\n",
      "Tool Calls:\n",
      "  financial_approval (call_n5e0r77ipzsvdihcyan34j0t)\n",
      " Call ID: call_n5e0r77ipzsvdihcyan34j0t\n",
      "  Args:\n",
      "    applicant_name: 稳稳\n",
      "    amount: 100000\n",
      "    purpose: 购买豪华办公家具\n",
      "    tool_call_id: 619052594411198464\n"
     ]
    }
   ],
   "execution_count": 51
  },
  {
   "metadata": {
    "ExecuteTime": {
     "end_time": "2025-10-20T09:01:27.639345Z",
     "start_time": "2025-10-20T09:01:27.636836Z"
    }
   },
   "cell_type": "code",
   "source": "graph_state = graph.get_state(config)",
   "id": "d0aa04c5ad01c69",
   "outputs": [],
   "execution_count": 52
  },
  {
   "metadata": {
    "ExecuteTime": {
     "end_time": "2025-10-20T09:04:35.023607Z",
     "start_time": "2025-10-20T09:04:32.306573Z"
    }
   },
   "cell_type": "code",
   "source": [
    "approval_feedback = {\n",
    "        \"action\": \"批准申请\",\n",
    "        \"approver_name\": \"李财务经理\",\n",
    "        \"comment\": \"采购符合预算，批准拨款\"\n",
    "    }\n",
    "events = graph.stream(\n",
    "        Command(resume=approval_feedback),\n",
    "        config,\n",
    "        stream_mode=\"values\"\n",
    "    )\n",
    "for event in events:\n",
    "    if \"messages\" in event:\n",
    "        event[\"messages\"][-1].pretty_print()"
   ],
   "id": "186491914a802bd2",
   "outputs": [
    {
     "name": "stdout",
     "output_type": "stream",
     "text": [
      "==================================\u001B[1m Ai Message \u001B[0m==================================\n",
      "Tool Calls:\n",
      "  financial_approval (call_n5e0r77ipzsvdihcyan34j0t)\n",
      " Call ID: call_n5e0r77ipzsvdihcyan34j0t\n",
      "  Args:\n",
      "    applicant_name: 稳稳\n",
      "    amount: 100000\n",
      "    purpose: 购买豪华办公家具\n",
      "    tool_call_id: 619052594411198464\n",
      "=================================\u001B[1m Tool Message \u001B[0m=================================\n",
      "Name: financial_approval\n",
      "\n",
      "✅ 申请已批准\n",
      "审批人: 李财务经理\n",
      "批准金额: ¥100,000.00\n",
      "审批意见: 采购符合预算，批准拨款\n",
      "==================================\u001B[1m Ai Message \u001B[0m==================================\n",
      "\n",
      "您的拨款申请已批准。审批人是李财务经理，批准金额为100,000元。审批意见为采购符合预算，批准拨款。同时，评估报告建议您提供项目计划，可能对未来的财务规划和项目执行有所帮助。\n"
     ]
    }
   ],
   "execution_count": 53
  },
  {
   "metadata": {},
   "cell_type": "code",
   "source": "graph_state2 = graph.get_state(config)",
   "id": "c546c32242725443",
   "outputs": [],
   "execution_count": null
  },
  {
   "metadata": {},
   "cell_type": "markdown",
   "source": "# 7、时间旅行",
   "id": "16bb014693e35cbd"
  },
  {
   "metadata": {
    "ExecuteTime": {
     "end_time": "2025-10-20T09:51:43.430220Z",
     "start_time": "2025-10-20T09:51:42.634032Z"
    }
   },
   "cell_type": "code",
   "source": [
    "from typing import Annotated\n",
    "from langchain_core.messages import BaseMessage\n",
    "import random\n",
    "from langchain.tools import tool\n",
    "from typing_extensions import TypedDict\n",
    "from langgraph.checkpoint.memory import MemorySaver\n",
    "from langgraph.graph import StateGraph, START, END\n",
    "from langgraph.graph.message import add_messages\n",
    "from langgraph.prebuilt import ToolNode, tools_condition\n",
    "from langchain_openai import ChatOpenAI\n",
    "from IPython.display import Image, display\n",
    "\n",
    "######################### 创建模型 #########################\n",
    "llm = ChatOpenAI(model=modelName)\n",
    "\n",
    "######################### 初始化图 #########################\n",
    "\n",
    "# 创建信息载体\n",
    "class State(TypedDict):\n",
    "    messages: Annotated[list, add_messages]\n",
    "    test:str\n",
    "\n",
    "\n",
    "# 创建图\n",
    "graph_builder = StateGraph(State)\n",
    "\n",
    "######################### 构建工具 #########################\n",
    "@tool\n",
    "def get_personal_infos(name: str) -> dict:\n",
    "    \"\"\"\n",
    "        通过姓名获取个人信息\n",
    "    :param name:姓名\n",
    "    :return:\n",
    "    \"\"\"\n",
    "    return {\n",
    "        \"name\": name,\n",
    "        \"age\": 18,\n",
    "        \"love\": random.choice([\"骑行\",\"唱歌\",\"跳舞\",\"羽毛球\"])\n",
    "    }\n",
    "\n",
    "\n",
    "\n",
    "# 构建工具\n",
    "tools = [get_personal_infos]\n",
    "llm_with_tools = llm.bind_tools(tools)\n",
    "\n",
    "\n",
    "######################### 绘制图 #########################\n",
    "\n",
    "# 创建聊天节点\n",
    "def chatbot(state: State):\n",
    "    return {\"messages\": [llm_with_tools.invoke(state[\"messages\"])]}\n",
    "\n",
    "# 加入节点\n",
    "graph_builder.add_node(\"chatbot\",chatbot)\n",
    "tool_node = ToolNode(tools=tools)\n",
    "graph_builder.add_node(\"tools\",tool_node)\n",
    "\n",
    "# 构建条件分支节点\n",
    "graph_builder.add_conditional_edges(\n",
    "    \"chatbot\",tools_condition\n",
    ")\n",
    "\n",
    "# 创建关系\n",
    "graph_builder.add_edge(\"tools\",\"chatbot\")\n",
    "\n",
    "# 开始\n",
    "graph_builder.add_edge(START,\"chatbot\")\n",
    "\n",
    "# 创建记忆点\n",
    "memory = MemorySaver()\n",
    "\n",
    "######################### 编译图 #########################\n",
    "graph = graph_builder.compile(memory)\n",
    "\n",
    "######################### 查看图 #########################\n",
    "display(Image(graph.get_graph().draw_mermaid_png()))\n"
   ],
   "id": "a4a4a1522a93d796",
   "outputs": [
    {
     "data": {
      "image/png": "[encoded data removed]",
      "text/plain": [
       "<IPython.core.display.Image object>"
      ]
     },
     "metadata": {},
     "output_type": "display_data"
    }
   ],
   "execution_count": 6
  },
  {
   "metadata": {
    "ExecuteTime": {
     "end_time": "2025-10-20T09:51:48.214274Z",
     "start_time": "2025-10-20T09:51:45.804882Z"
    }
   },
   "cell_type": "code",
   "source": [
    "config = {\"configurable\":{\"thread_id\":\"10086\"}}\n",
    "events = graph.stream({\"messages\":[{\"role\":\"user\",\"content\":\"我想获取小红的个人信息\"}]},\n",
    "                      config=config,\n",
    "                      stream_mode=\"values\"\n",
    "                      )\n",
    "for event in events:\n",
    "    if \"messages\" in event:\n",
    "        event[\"messages\"][-1].pretty_print()"
   ],
   "id": "d187f435162393d6",
   "outputs": [
    {
     "name": "stdout",
     "output_type": "stream",
     "text": [
      "================================\u001B[1m Human Message \u001B[0m=================================\n",
      "\n",
      "我想获取小红的个人信息\n",
      "==================================\u001B[1m Ai Message \u001B[0m==================================\n",
      "\n",
      "用户想获取小红的个人信息，调用 get_personal_infos 函数获取。\n",
      "Tool Calls:\n",
      "  get_personal_infos (call_bk1nya35km8vv7s48ji8q2mh)\n",
      " Call ID: call_bk1nya35km8vv7s48ji8q2mh\n",
      "  Args:\n",
      "    name: 小红\n",
      "=================================\u001B[1m Tool Message \u001B[0m=================================\n",
      "Name: get_personal_infos\n",
      "\n",
      "{\"name\": \"小红\", \"age\": 18, \"love\": \"唱歌\"}\n",
      "==================================\u001B[1m Ai Message \u001B[0m==================================\n",
      "\n",
      "小红的个人信息为：年龄18岁，爱好唱歌。\n"
     ]
    }
   ],
   "execution_count": 7
  },
  {
   "metadata": {
    "ExecuteTime": {
     "end_time": "2025-10-20T09:51:51.823124Z",
     "start_time": "2025-10-20T09:51:51.820294Z"
    }
   },
   "cell_type": "code",
   "source": "graph_hist = list(graph.get_state_history(config))\n",
   "id": "baa1bcbb8c0a2fe8",
   "outputs": [],
   "execution_count": 8
  },
  {
   "metadata": {
    "ExecuteTime": {
     "end_time": "2025-10-20T10:08:29.367234Z",
     "start_time": "2025-10-20T10:08:29.364560Z"
    }
   },
   "cell_type": "code",
   "source": [
    "for StateSnapshot in graph_hist[::-1]:\n",
    "    print(\"下一个节点名称：\",StateSnapshot.next)\n",
    "    print(\"当前执行步骤快照配置：\\n\",StateSnapshot.config)\n",
    "    print(\"上一步父快照配置：\\n\",StateSnapshot.parent_config)\n",
    "    print(\"★\"*50,\"\\n\")"
   ],
   "id": "3bb70dde39c891b0",
   "outputs": [
    {
     "name": "stdout",
     "output_type": "stream",
     "text": [
      "下一个节点名称： ('__start__',)\n",
      "当前执行步骤快照配置：\n",
      " {'configurable': {'thread_id': '10086', 'checkpoint_ns': '', 'checkpoint_id': '1f0ad9a6-3b82-6d80-bfff-8e3a967127b5'}}\n",
      "上一步父快照配置：\n",
      " None\n",
      "★★★★★★★★★★★★★★★★★★★★★★★★★★★★★★★★★★★★★★★★★★★★★★★★★★ \n",
      "\n",
      "下一个节点名称： ('chatbot',)\n",
      "当前执行步骤快照配置：\n",
      " {'configurable': {'thread_id': '10086', 'checkpoint_ns': '', 'checkpoint_id': '1f0ad9a6-3b84-6fc6-8000-4d3546791222'}}\n",
      "上一步父快照配置：\n",
      " {'configurable': {'thread_id': '10086', 'checkpoint_ns': '', 'checkpoint_id': '1f0ad9a6-3b82-6d80-bfff-8e3a967127b5'}}\n",
      "★★★★★★★★★★★★★★★★★★★★★★★★★★★★★★★★★★★★★★★★★★★★★★★★★★ \n",
      "\n",
      "下一个节点名称： ('tools',)\n",
      "当前执行步骤快照配置：\n",
      " {'configurable': {'thread_id': '10086', 'checkpoint_ns': '', 'checkpoint_id': '1f0ad9a6-4780-608f-8001-d7ff1d762934'}}\n",
      "上一步父快照配置：\n",
      " {'configurable': {'thread_id': '10086', 'checkpoint_ns': '', 'checkpoint_id': '1f0ad9a6-3b84-6fc6-8000-4d3546791222'}}\n",
      "★★★★★★★★★★★★★★★★★★★★★★★★★★★★★★★★★★★★★★★★★★★★★★★★★★ \n",
      "\n",
      "下一个节点名称： ('chatbot',)\n",
      "当前执行步骤快照配置：\n",
      " {'configurable': {'thread_id': '10086', 'checkpoint_ns': '', 'checkpoint_id': '1f0ad9a6-4784-6715-8002-75c2a66ea9e1'}}\n",
      "上一步父快照配置：\n",
      " {'configurable': {'thread_id': '10086', 'checkpoint_ns': '', 'checkpoint_id': '1f0ad9a6-4780-608f-8001-d7ff1d762934'}}\n",
      "★★★★★★★★★★★★★★★★★★★★★★★★★★★★★★★★★★★★★★★★★★★★★★★★★★ \n",
      "\n",
      "下一个节点名称： ()\n",
      "当前执行步骤快照配置：\n",
      " {'configurable': {'thread_id': '10086', 'checkpoint_ns': '', 'checkpoint_id': '1f0ad9a6-5270-6450-8003-789f8488f8dc'}}\n",
      "上一步父快照配置：\n",
      " {'configurable': {'thread_id': '10086', 'checkpoint_ns': '', 'checkpoint_id': '1f0ad9a6-4784-6715-8002-75c2a66ea9e1'}}\n",
      "★★★★★★★★★★★★★★★★★★★★★★★★★★★★★★★★★★★★★★★★★★★★★★★★★★ \n",
      "\n"
     ]
    }
   ],
   "execution_count": 18
  },
  {
   "metadata": {
    "ExecuteTime": {
     "end_time": "2025-10-20T10:20:42.911613Z",
     "start_time": "2025-10-20T10:20:42.242732Z"
    }
   },
   "cell_type": "code",
   "source": [
    "config = {'configurable': {\n",
    "    'thread_id': '10086',\n",
    "    'checkpoint_ns': '',\n",
    "    'checkpoint_id': '1f0ad9a6-4780-608f-8001-d7ff1d762934'}}\n",
    "for event in graph.stream(None,config, stream_mode=\"values\"):\n",
    "    if \"messages\" in event:\n",
    "        event[\"messages\"][-1].pretty_print()"
   ],
   "id": "f6edc42bd0c08164",
   "outputs": [
    {
     "name": "stdout",
     "output_type": "stream",
     "text": [
      "==================================\u001B[1m Ai Message \u001B[0m==================================\n",
      "\n",
      "用户想获取小红的个人信息，调用 get_personal_infos 函数获取。\n",
      "Tool Calls:\n",
      "  get_personal_infos (call_bk1nya35km8vv7s48ji8q2mh)\n",
      " Call ID: call_bk1nya35km8vv7s48ji8q2mh\n",
      "  Args:\n",
      "    name: 小红\n",
      "=================================\u001B[1m Tool Message \u001B[0m=================================\n",
      "Name: get_personal_infos\n",
      "\n",
      "{\"name\": \"小红\", \"age\": 18, \"love\": \"骑行\"}\n",
      "==================================\u001B[1m Ai Message \u001B[0m==================================\n",
      "\n",
      "小红的个人信息为：年龄18岁，爱好是骑行。\n"
     ]
    }
   ],
   "execution_count": 28
  },
  {
   "metadata": {
    "ExecuteTime": {
     "end_time": "2025-10-20T10:21:23.712348Z",
     "start_time": "2025-10-20T10:21:23.707763Z"
    }
   },
   "cell_type": "code",
   "source": "graph_hist2 = list(graph.get_state_history(config))\n",
   "id": "8e22841d75ede2b7",
   "outputs": [],
   "execution_count": 29
  },
  {
   "metadata": {},
   "cell_type": "code",
   "outputs": [],
   "execution_count": null,
   "source": "",
   "id": "255a92960c41e407"
  }
 ],
 "metadata": {
  "kernelspec": {
   "display_name": "Python 3",
   "language": "python",
   "name": "python3"
  },
  "language_info": {
   "codemirror_mode": {
    "name": "ipython",
    "version": 2
   },
   "file_extension": ".py",
   "mimetype": "text/x-python",
   "name": "python",
   "nbconvert_exporter": "python",
   "pygments_lexer": "ipython2",
   "version": "2.7.6"
  }
 },
 "nbformat": 4,
 "nbformat_minor": 5
}
